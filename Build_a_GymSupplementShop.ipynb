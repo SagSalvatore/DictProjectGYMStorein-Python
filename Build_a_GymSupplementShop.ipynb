{
  "nbformat": 4,
  "nbformat_minor": 0,
  "metadata": {
    "colab": {
      "provenance": [],
      "authorship_tag": "ABX9TyMfW3/ZsFHdjfDmm9c9NjLW",
      "include_colab_link": true
    },
    "kernelspec": {
      "name": "python3",
      "display_name": "Python 3"
    },
    "language_info": {
      "name": "python"
    }
  },
  "cells": [
    {
      "cell_type": "markdown",
      "metadata": {
        "id": "view-in-github",
        "colab_type": "text"
      },
      "source": [
        "<a href=\"https://colab.research.google.com/github/SagSalvatore/DictProjectGYMStorein-Python/blob/main/Build_a_GymSupplementShop.ipynb\" target=\"_parent\"><img src=\"https://colab.research.google.com/assets/colab-badge.svg\" alt=\"Open In Colab\"/></a>"
      ]
    },
    {
      "cell_type": "code",
      "execution_count": 3,
      "metadata": {
        "colab": {
          "base_uri": "https://localhost:8080/"
        },
        "id": "3VoeXn7BgZsD",
        "outputId": "25c39aa7-be31-4c35-c431-717953ee4b4b"
      },
      "outputs": [
        {
          "output_type": "stream",
          "name": "stdout",
          "text": [
            "Welcome to MyGym-Supplement Store\", \"Let's order your fav supplement and get your desired body transformation!\n",
            "\"Pre-Workout\": 1500,\"BCAAEnergy\": 1200,\"Whey\": 2700, \"WheyProtien Isolate\": 3400,\"Creatine\": 800 \n",
            "Enter the item name: whey\n",
            "This item is not in our Shop, Please order something from the StoreProducts_INR_Prices! \n",
            "Do you want to order another item? (yes/no): yes\n",
            "Enter the Second item name you want to order: Whey\n",
            "This item is not in our Shop, Please order something from the StoreProducts_INR_Prices! \n",
            "You Total amount is Rs.0. Thanking You! Keep Lifting Hard in Gym!\n"
          ]
        }
      ],
      "source": [
        "StoreProducts_INR_Prices= {\"Pre-Workout\": 1500,\"BCAAEnergy\": 1200,\"WheyProtien\": 2700, \"WheyProtien Isolate\": 3400,\"Creatine\": 800}\n",
        "\n",
        "print(\"\"\"Welcome to MyGym-Supplement Store\", \"Let's order your fav supplement and get your desired body transformation!\n",
        "\"Pre-Workout\": 1500,\"BCAAEnergy\": 1200,\"Whey\": 2700, \"WheyProtien Isolate\": 3400,\"Creatine\": 800 \"\"\")\n",
        "\n",
        "Total_Price=0\n",
        "\n",
        "item1= input(\"Enter the item name: \")\n",
        "if item1 in StoreProducts_INR_Prices:\n",
        "  Total_Price += StoreProducts_INR_Prices[item1]\n",
        "  print(f\"You Ordered {item1}. Your Total order is  RS.{Total_Price}.\")\n",
        "\n",
        "else:\n",
        "  print(\"This item is not in our Shop, Please order something from the StoreProducts_INR_Prices! \")\n",
        "\n",
        "another_item= input(\"Do you want to order another item? (yes/no): \")\n",
        "\n",
        "if another_item.lower() == \"yes\":\n",
        "  item2= input(\"Enter the Second item name you want to order: \")\n",
        "  if item2 in StoreProducts_INR_Prices:\n",
        "    Total_Price += StoreProducts_INR_Prices[item2]\n",
        "    print(f\"You Ordered {item2}. Your Total order is  RS.{Total_Price}.\")\n",
        "  else:\n",
        "    print(\"This item is not in our Shop, Please order something from the StoreProducts_INR_Prices! \")\n",
        "\n",
        "print(f\"You Total amount is Rs.{Total_Price}. Thanking You! Keep Lifting Hard in Gym!\")\n",
        "\n"
      ]
    },
    {
      "cell_type": "code",
      "source": [],
      "metadata": {
        "id": "YSqEF4q_k62-"
      },
      "execution_count": null,
      "outputs": []
    }
  ]
}